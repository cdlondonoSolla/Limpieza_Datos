{
 "cells": [
  {
   "cell_type": "markdown",
   "id": "6b78448e-f049-404d-a071-c8f7a58a4b86",
   "metadata": {
    "tags": []
   },
   "source": [
    "# Monthly Electricity Statistics"
   ]
  },
  {
   "cell_type": "markdown",
   "id": "f8d39630-5227-4712-9674-30561660389e",
   "metadata": {},
   "source": [
    "## Cargue Dataset"
   ]
  },
  {
   "cell_type": "code",
   "execution_count": 16,
   "id": "0a0a5faa-5a20-4b55-bf25-391fc523081b",
   "metadata": {
    "tags": []
   },
   "outputs": [],
   "source": [
    "# importar liberarias\n",
    "\n",
    "import seaborn as sns\n",
    "import matplotlib.pyplot as plt\n",
    "import pandas as pd\n",
    "import numpy as np"
   ]
  },
  {
   "cell_type": "code",
   "execution_count": 62,
   "id": "fb37fef4-bd52-4033-b5d8-d93572a53ea4",
   "metadata": {
    "tags": []
   },
   "outputs": [
    {
     "name": "stdout",
     "output_type": "stream",
     "text": [
      "<class 'pandas.core.frame.DataFrame'>\n",
      "RangeIndex: 181915 entries, 0 to 181914\n",
      "Data columns (total 12 columns):\n",
      " #   Column              Non-Null Count   Dtype  \n",
      "---  ------              --------------   -----  \n",
      " 0   COUNTRY             181915 non-null  object \n",
      " 1   CODE_TIME           181915 non-null  object \n",
      " 2   TIME                181915 non-null  object \n",
      " 3   YEAR                181915 non-null  int64  \n",
      " 4   MONTH               181915 non-null  int64  \n",
      " 5   MONTH_NAME          181915 non-null  object \n",
      " 6   PRODUCT             181915 non-null  object \n",
      " 7   VALUE               181915 non-null  float64\n",
      " 8   DISPLAY_ORDER       181915 non-null  int64  \n",
      " 9   yearToDate          181915 non-null  float64\n",
      " 10  previousYearToDate  164810 non-null  float64\n",
      " 11  share               181915 non-null  float64\n",
      "dtypes: float64(4), int64(3), object(5)\n",
      "memory usage: 16.7+ MB\n"
     ]
    }
   ],
   "source": [
    "# Se carga el DataFrame y se muestra la informacion de las columnas\n",
    "\n",
    "df = pd.read_csv(\"data.csv\")\n",
    "df.info()"
   ]
  },
  {
   "cell_type": "code",
   "execution_count": 63,
   "id": "2b58c6dc-d46b-498a-9e3b-69642e38aa5c",
   "metadata": {
    "tags": []
   },
   "outputs": [
    {
     "data": {
      "text/html": [
       "<div>\n",
       "<style scoped>\n",
       "    .dataframe tbody tr th:only-of-type {\n",
       "        vertical-align: middle;\n",
       "    }\n",
       "\n",
       "    .dataframe tbody tr th {\n",
       "        vertical-align: top;\n",
       "    }\n",
       "\n",
       "    .dataframe thead th {\n",
       "        text-align: right;\n",
       "    }\n",
       "</style>\n",
       "<table border=\"1\" class=\"dataframe\">\n",
       "  <thead>\n",
       "    <tr style=\"text-align: right;\">\n",
       "      <th></th>\n",
       "      <th>COUNTRY</th>\n",
       "      <th>CODE_TIME</th>\n",
       "      <th>TIME</th>\n",
       "      <th>YEAR</th>\n",
       "      <th>MONTH</th>\n",
       "      <th>MONTH_NAME</th>\n",
       "      <th>PRODUCT</th>\n",
       "      <th>VALUE</th>\n",
       "      <th>DISPLAY_ORDER</th>\n",
       "      <th>yearToDate</th>\n",
       "      <th>previousYearToDate</th>\n",
       "      <th>share</th>\n",
       "    </tr>\n",
       "  </thead>\n",
       "  <tbody>\n",
       "    <tr>\n",
       "      <th>0</th>\n",
       "      <td>Australia</td>\n",
       "      <td>JAN2010</td>\n",
       "      <td>January 2010</td>\n",
       "      <td>2010</td>\n",
       "      <td>1</td>\n",
       "      <td>January</td>\n",
       "      <td>Hydro</td>\n",
       "      <td>990.728</td>\n",
       "      <td>1</td>\n",
       "      <td>16471.891</td>\n",
       "      <td>NaN</td>\n",
       "      <td>0.047771</td>\n",
       "    </tr>\n",
       "    <tr>\n",
       "      <th>1</th>\n",
       "      <td>Australia</td>\n",
       "      <td>JAN2010</td>\n",
       "      <td>January 2010</td>\n",
       "      <td>2010</td>\n",
       "      <td>1</td>\n",
       "      <td>January</td>\n",
       "      <td>Wind</td>\n",
       "      <td>409.469</td>\n",
       "      <td>2</td>\n",
       "      <td>4940.909</td>\n",
       "      <td>NaN</td>\n",
       "      <td>0.019744</td>\n",
       "    </tr>\n",
       "    <tr>\n",
       "      <th>2</th>\n",
       "      <td>Australia</td>\n",
       "      <td>JAN2010</td>\n",
       "      <td>January 2010</td>\n",
       "      <td>2010</td>\n",
       "      <td>1</td>\n",
       "      <td>January</td>\n",
       "      <td>Solar</td>\n",
       "      <td>49.216</td>\n",
       "      <td>3</td>\n",
       "      <td>908.238</td>\n",
       "      <td>NaN</td>\n",
       "      <td>0.002373</td>\n",
       "    </tr>\n",
       "    <tr>\n",
       "      <th>3</th>\n",
       "      <td>Australia</td>\n",
       "      <td>JAN2010</td>\n",
       "      <td>January 2010</td>\n",
       "      <td>2010</td>\n",
       "      <td>1</td>\n",
       "      <td>January</td>\n",
       "      <td>Geothermal</td>\n",
       "      <td>0.083</td>\n",
       "      <td>4</td>\n",
       "      <td>0.996</td>\n",
       "      <td>NaN</td>\n",
       "      <td>0.000004</td>\n",
       "    </tr>\n",
       "    <tr>\n",
       "      <th>4</th>\n",
       "      <td>Australia</td>\n",
       "      <td>JAN2010</td>\n",
       "      <td>January 2010</td>\n",
       "      <td>2010</td>\n",
       "      <td>1</td>\n",
       "      <td>January</td>\n",
       "      <td>Total combustible fuels</td>\n",
       "      <td>19289.730</td>\n",
       "      <td>7</td>\n",
       "      <td>214302.969</td>\n",
       "      <td>NaN</td>\n",
       "      <td>0.930108</td>\n",
       "    </tr>\n",
       "  </tbody>\n",
       "</table>\n",
       "</div>"
      ],
      "text/plain": [
       "     COUNTRY CODE_TIME          TIME  YEAR  MONTH MONTH_NAME  \\\n",
       "0  Australia   JAN2010  January 2010  2010      1    January   \n",
       "1  Australia   JAN2010  January 2010  2010      1    January   \n",
       "2  Australia   JAN2010  January 2010  2010      1    January   \n",
       "3  Australia   JAN2010  January 2010  2010      1    January   \n",
       "4  Australia   JAN2010  January 2010  2010      1    January   \n",
       "\n",
       "                   PRODUCT      VALUE  DISPLAY_ORDER  yearToDate  \\\n",
       "0                    Hydro    990.728              1   16471.891   \n",
       "1                     Wind    409.469              2    4940.909   \n",
       "2                    Solar     49.216              3     908.238   \n",
       "3               Geothermal      0.083              4       0.996   \n",
       "4  Total combustible fuels  19289.730              7  214302.969   \n",
       "\n",
       "   previousYearToDate     share  \n",
       "0                 NaN  0.047771  \n",
       "1                 NaN  0.019744  \n",
       "2                 NaN  0.002373  \n",
       "3                 NaN  0.000004  \n",
       "4                 NaN  0.930108  "
      ]
     },
     "execution_count": 63,
     "metadata": {},
     "output_type": "execute_result"
    }
   ],
   "source": [
    "df.head()"
   ]
  },
  {
   "cell_type": "markdown",
   "id": "e7f65abe-5a33-46e2-b678-02868e94b008",
   "metadata": {},
   "source": [
    "## Limpieza de datos"
   ]
  },
  {
   "cell_type": "code",
   "execution_count": 64,
   "id": "25c6db09-828b-4789-becd-dc0e14210f1d",
   "metadata": {
    "tags": []
   },
   "outputs": [],
   "source": [
    "#modificar Valores para manejar 2 decimales\n",
    "# Aplicar IQR a VALUE"
   ]
  },
  {
   "cell_type": "code",
   "execution_count": 65,
   "id": "2b4f76ed-3ddf-4d61-8cfe-1788064f1eb0",
   "metadata": {},
   "outputs": [
    {
     "name": "stdout",
     "output_type": "stream",
     "text": [
      "<class 'pandas.core.frame.DataFrame'>\n",
      "RangeIndex: 181915 entries, 0 to 181914\n",
      "Data columns (total 12 columns):\n",
      " #   Column              Non-Null Count   Dtype  \n",
      "---  ------              --------------   -----  \n",
      " 0   COUNTRY             181915 non-null  object \n",
      " 1   CODE_TIME           181915 non-null  object \n",
      " 2   TIME                181915 non-null  object \n",
      " 3   YEAR                181915 non-null  int64  \n",
      " 4   MONTH               181915 non-null  int64  \n",
      " 5   MONTH_NAME          181915 non-null  object \n",
      " 6   PRODUCT             181915 non-null  object \n",
      " 7   VALUE               181915 non-null  float64\n",
      " 8   DISPLAY_ORDER       181915 non-null  int64  \n",
      " 9   yearToDate          181915 non-null  float64\n",
      " 10  previousYearToDate  164810 non-null  float64\n",
      " 11  share               181915 non-null  float64\n",
      "dtypes: float64(4), int64(3), object(5)\n",
      "memory usage: 16.7+ MB\n"
     ]
    }
   ],
   "source": [
    "# Quitar duplicados\n",
    "\n",
    "df.drop_duplicates()\n",
    "\n",
    "df.info()"
   ]
  },
  {
   "cell_type": "code",
   "execution_count": 66,
   "id": "db95875f-3481-4e91-950c-10fe7c0f3b36",
   "metadata": {
    "tags": []
   },
   "outputs": [],
   "source": [
    "# Codificar el pais.\n",
    "\n",
    "# Crear un diccionario de mapeo para codificar los países\n",
    "pais_codificado = {pais: idx for idx, pais in enumerate(df['COUNTRY'].unique(), start=1)}\n",
    "\n",
    "# Reemplazar los nombres de los países con los códigos numéricos\n",
    "df['pais_codificado'] = df['COUNTRY'].map(pais_codificado)"
   ]
  },
  {
   "cell_type": "code",
   "execution_count": 67,
   "id": "6153a479-4e92-4342-8f15-800e58705f78",
   "metadata": {
    "tags": []
   },
   "outputs": [
    {
     "data": {
      "text/html": [
       "<div>\n",
       "<style scoped>\n",
       "    .dataframe tbody tr th:only-of-type {\n",
       "        vertical-align: middle;\n",
       "    }\n",
       "\n",
       "    .dataframe tbody tr th {\n",
       "        vertical-align: top;\n",
       "    }\n",
       "\n",
       "    .dataframe thead th {\n",
       "        text-align: right;\n",
       "    }\n",
       "</style>\n",
       "<table border=\"1\" class=\"dataframe\">\n",
       "  <thead>\n",
       "    <tr style=\"text-align: right;\">\n",
       "      <th></th>\n",
       "      <th>PRODUCT</th>\n",
       "      <th>VALUE</th>\n",
       "    </tr>\n",
       "  </thead>\n",
       "  <tbody>\n",
       "    <tr>\n",
       "      <th>3</th>\n",
       "      <td>Electricity supplied</td>\n",
       "      <td>565262574.11</td>\n",
       "    </tr>\n",
       "    <tr>\n",
       "      <th>11</th>\n",
       "      <td>Net electricity production</td>\n",
       "      <td>564874336.09</td>\n",
       "    </tr>\n",
       "    <tr>\n",
       "      <th>5</th>\n",
       "      <td>Final consumption</td>\n",
       "      <td>522670059.06</td>\n",
       "    </tr>\n",
       "    <tr>\n",
       "      <th>12</th>\n",
       "      <td>Non-renewables</td>\n",
       "      <td>418686166.13</td>\n",
       "    </tr>\n",
       "    <tr>\n",
       "      <th>22</th>\n",
       "      <td>Total combustible fuels</td>\n",
       "      <td>332979390.05</td>\n",
       "    </tr>\n",
       "    <tr>\n",
       "      <th>6</th>\n",
       "      <td>Fossil fuels</td>\n",
       "      <td>319942106.34</td>\n",
       "    </tr>\n",
       "    <tr>\n",
       "      <th>9</th>\n",
       "      <td>Low carbon</td>\n",
       "      <td>246822067.84</td>\n",
       "    </tr>\n",
       "    <tr>\n",
       "      <th>0</th>\n",
       "      <td>Coal</td>\n",
       "      <td>155367443.69</td>\n",
       "    </tr>\n",
       "    <tr>\n",
       "      <th>10</th>\n",
       "      <td>Natural gas</td>\n",
       "      <td>146998372.67</td>\n",
       "    </tr>\n",
       "    <tr>\n",
       "      <th>20</th>\n",
       "      <td>Renewables</td>\n",
       "      <td>146185701.80</td>\n",
       "    </tr>\n",
       "    <tr>\n",
       "      <th>14</th>\n",
       "      <td>Nuclear</td>\n",
       "      <td>98744059.79</td>\n",
       "    </tr>\n",
       "    <tr>\n",
       "      <th>8</th>\n",
       "      <td>Hydro</td>\n",
       "      <td>81083425.51</td>\n",
       "    </tr>\n",
       "    <tr>\n",
       "      <th>26</th>\n",
       "      <td>Wind</td>\n",
       "      <td>34156906.87</td>\n",
       "    </tr>\n",
       "    <tr>\n",
       "      <th>2</th>\n",
       "      <td>Distribution losses</td>\n",
       "      <td>33108499.69</td>\n",
       "    </tr>\n",
       "    <tr>\n",
       "      <th>24</th>\n",
       "      <td>Total imports</td>\n",
       "      <td>25154042.33</td>\n",
       "    </tr>\n",
       "    <tr>\n",
       "      <th>23</th>\n",
       "      <td>Total exports</td>\n",
       "      <td>24765804.31</td>\n",
       "    </tr>\n",
       "    <tr>\n",
       "      <th>19</th>\n",
       "      <td>Others</td>\n",
       "      <td>17576291.63</td>\n",
       "    </tr>\n",
       "    <tr>\n",
       "      <th>18</th>\n",
       "      <td>Other renewables aggregated</td>\n",
       "      <td>17318646.01</td>\n",
       "    </tr>\n",
       "    <tr>\n",
       "      <th>1</th>\n",
       "      <td>Combustible renewables</td>\n",
       "      <td>14926792.50</td>\n",
       "    </tr>\n",
       "    <tr>\n",
       "      <th>21</th>\n",
       "      <td>Solar</td>\n",
       "      <td>13626723.42</td>\n",
       "    </tr>\n",
       "  </tbody>\n",
       "</table>\n",
       "</div>"
      ],
      "text/plain": [
       "                        PRODUCT        VALUE\n",
       "3          Electricity supplied 565262574.11\n",
       "11   Net electricity production 564874336.09\n",
       "5             Final consumption 522670059.06\n",
       "12               Non-renewables 418686166.13\n",
       "22      Total combustible fuels 332979390.05\n",
       "6                  Fossil fuels 319942106.34\n",
       "9                    Low carbon 246822067.84\n",
       "0                          Coal 155367443.69\n",
       "10                  Natural gas 146998372.67\n",
       "20                   Renewables 146185701.80\n",
       "14                      Nuclear  98744059.79\n",
       "8                         Hydro  81083425.51\n",
       "26                         Wind  34156906.87\n",
       "2           Distribution losses  33108499.69\n",
       "24                Total imports  25154042.33\n",
       "23                Total exports  24765804.31\n",
       "19                       Others  17576291.63\n",
       "18  Other renewables aggregated  17318646.01\n",
       "1        Combustible renewables  14926792.50\n",
       "21                        Solar  13626723.42"
      ]
     },
     "execution_count": 67,
     "metadata": {},
     "output_type": "execute_result"
    }
   ],
   "source": [
    "# Agrupar por la columna 'PRODUCT' y calcular la suma del VALUE para cada PRODUCT\n",
    "df_agrupado = df.groupby('PRODUCT')['VALUE'].sum().reset_index()\n",
    "\n",
    "pd.set_option('display.float_format', lambda x: '%.2f' % x)\n",
    "\n",
    "df_sorted = df_agrupado.sort_values(by='VALUE', ascending=False)\n",
    "\n",
    "df_sorted.head(20)"
   ]
  },
  {
   "cell_type": "markdown",
   "id": "33c1ab53-d91a-4e56-a2fd-dcafd2d7e6c3",
   "metadata": {},
   "source": [
    "## Graficos"
   ]
  },
  {
   "cell_type": "markdown",
   "id": "8d0f664c-baca-4778-a16b-c2153452aad2",
   "metadata": {},
   "source": [
    "### Mapa de Calor"
   ]
  },
  {
   "cell_type": "code",
   "execution_count": 68,
   "id": "85e98b16-72cf-49fd-ab64-1f339afd0a8f",
   "metadata": {
    "tags": []
   },
   "outputs": [
    {
     "data": {
      "image/png": "[encoded data removed]",
      "text/plain": [
       "<Figure size 800x600 with 2 Axes>"
      ]
     },
     "metadata": {},
     "output_type": "display_data"
    }
   ],
   "source": [
    "# Calcular la matriz de correlación\n",
    "corr = df.corr(numeric_only=True)\n",
    "\n",
    "# Crear el mapa de calor\n",
    "plt.figure(figsize=(8, 6))  # Tamaño del gráfico\n",
    "sns.heatmap(corr, annot=True, cmap='coolwarm', fmt=\".2f\", linewidths=0.5)\n",
    "\n",
    "# Agregar título y mostrar el gráfico\n",
    "plt.title('Mapa de Calor de Correlación entre Variables')\n",
    "plt.show()"
   ]
  },
  {
   "cell_type": "code",
   "execution_count": null,
   "id": "8b16fa2c-84e4-41d7-aa8c-66029073c9f5",
   "metadata": {
    "tags": []
   },
   "outputs": [],
   "source": [
    "df_filtrado = df[(df['COUNTRY'] == 'Australia') & (df['PRODUCT'] == 'Solar') & (df['YEAR'] == 2020) & ((df['MONTH'] == 2) | (df['MONTH'] == 1)) ]\n",
    "df_filtrado"
   ]
  },
  {
   "cell_type": "code",
   "execution_count": null,
   "id": "7a9334f8-9f9d-494f-b609-12d84310e67e",
   "metadata": {
    "tags": []
   },
   "outputs": [],
   "source": [
    "valueYear = df_filtrado['VALUE'].sum()\n",
    "valueYear"
   ]
  },
  {
   "cell_type": "code",
   "execution_count": null,
   "id": "b2671719-2f4a-4c7f-9ce3-824774726546",
   "metadata": {
    "tags": []
   },
   "outputs": [],
   "source": [
    "df_filtrado2021 = df[(df['COUNTRY'] == 'Australia') & (df['PRODUCT'] == 'Hydro') & (df['YEAR'] == 2021) & ((df['MONTH'] == 2) | (df['MONTH'] == 1))]\n",
    "df_filtrado2021"
   ]
  },
  {
   "cell_type": "code",
   "execution_count": null,
   "id": "7e3e466c-f120-4b69-9767-33dfd39bb5c9",
   "metadata": {
    "tags": []
   },
   "outputs": [],
   "source": [
    "valueYear2021 = df_filtrado2021['VALUE'].sum()"
   ]
  },
  {
   "cell_type": "code",
   "execution_count": null,
   "id": "02115b5b-7d38-40df-b667-aaf6ccc60e1c",
   "metadata": {
    "tags": []
   },
   "outputs": [],
   "source": [
    "valueYear2021"
   ]
  },
  {
   "cell_type": "code",
   "execution_count": null,
   "id": "65050b62-0c24-4152-97ac-8bfc53d97c45",
   "metadata": {
    "tags": []
   },
   "outputs": [],
   "source": [
    "valueYear"
   ]
  },
  {
   "cell_type": "code",
   "execution_count": null,
   "id": "467c5e3b-5871-4a9d-9cdc-570430e08386",
   "metadata": {
    "tags": []
   },
   "outputs": [],
   "source": [
    "valueFinal = valueYear2021 + valueYear"
   ]
  },
  {
   "cell_type": "code",
   "execution_count": null,
   "id": "80bd011a-8a50-4191-bfe1-99e833296800",
   "metadata": {
    "tags": []
   },
   "outputs": [],
   "source": [
    "valueFinal"
   ]
  },
  {
   "cell_type": "code",
   "execution_count": null,
   "id": "ac3a3f01-6d05-4547-bcfe-174179c5e92c",
   "metadata": {
    "tags": []
   },
   "outputs": [],
   "source": [
    "df_filtrado2019 = df[(df['COUNTRY'] == 'Australia') & (df['PRODUCT'] == 'Hydro') & (df['YEAR'] == 2020)]\n",
    "df_filtrado2019['VALUE'].sum()"
   ]
  },
  {
   "cell_type": "code",
   "execution_count": null,
   "id": "9a3032bb-1e20-456a-88be-0f020b14a566",
   "metadata": {
    "tags": []
   },
   "outputs": [],
   "source": [
    "df_filtrado2021 = df[(df['COUNTRY'] == 'Australia') & (df['PRODUCT'] == 'Natural gas')]\n",
    "df_filtrado2021"
   ]
  },
  {
   "cell_type": "code",
   "execution_count": 48,
   "id": "6cf301d6-27cc-47ea-8bce-9be80118cca7",
   "metadata": {
    "tags": []
   },
   "outputs": [
    {
     "data": {
      "image/png": "[encoded data removed]",
      "text/plain": [
       "<Figure size 640x480 with 1 Axes>"
      ]
     },
     "metadata": {},
     "output_type": "display_data"
    }
   ],
   "source": [
    "# Ajustar la escala del eje Y para mostrar números completos\n",
    "plt.ticklabel_format(style='plain', axis='y')\n",
    "\n",
    "# Boxplot con matplotlib\n",
    "plt.boxplot(df['VALUE'])\n",
    "plt.title('Boxplot de precio_en_euros')\n",
    "plt.show()"
   ]
  },
  {
   "cell_type": "code",
   "execution_count": 49,
   "id": "cd7f8b2b-6d33-45b1-960b-6aed494233d2",
   "metadata": {
    "tags": []
   },
   "outputs": [
    {
     "data": {
      "text/html": [
       "<div>\n",
       "<style scoped>\n",
       "    .dataframe tbody tr th:only-of-type {\n",
       "        vertical-align: middle;\n",
       "    }\n",
       "\n",
       "    .dataframe tbody tr th {\n",
       "        vertical-align: top;\n",
       "    }\n",
       "\n",
       "    .dataframe thead th {\n",
       "        text-align: right;\n",
       "    }\n",
       "</style>\n",
       "<table border=\"1\" class=\"dataframe\">\n",
       "  <thead>\n",
       "    <tr style=\"text-align: right;\">\n",
       "      <th></th>\n",
       "      <th>YEAR</th>\n",
       "      <th>MONTH</th>\n",
       "      <th>VALUE</th>\n",
       "      <th>DISPLAY_ORDER</th>\n",
       "      <th>yearToDate</th>\n",
       "      <th>previousYearToDate</th>\n",
       "      <th>share</th>\n",
       "    </tr>\n",
       "  </thead>\n",
       "  <tbody>\n",
       "    <tr>\n",
       "      <th>count</th>\n",
       "      <td>181915.000000</td>\n",
       "      <td>181915.000000</td>\n",
       "      <td>1.819150e+05</td>\n",
       "      <td>181915.000000</td>\n",
       "      <td>1.819150e+05</td>\n",
       "      <td>1.648100e+05</td>\n",
       "      <td>181915.000000</td>\n",
       "    </tr>\n",
       "    <tr>\n",
       "      <th>mean</th>\n",
       "      <td>2016.456818</td>\n",
       "      <td>6.498145</td>\n",
       "      <td>2.091292e+04</td>\n",
       "      <td>14.418410</td>\n",
       "      <td>2.509544e+05</td>\n",
       "      <td>1.382083e+05</td>\n",
       "      <td>0.289057</td>\n",
       "    </tr>\n",
       "    <tr>\n",
       "      <th>std</th>\n",
       "      <td>3.657532</td>\n",
       "      <td>3.452288</td>\n",
       "      <td>8.584724e+04</td>\n",
       "      <td>7.819235</td>\n",
       "      <td>1.026864e+06</td>\n",
       "      <td>6.383465e+05</td>\n",
       "      <td>0.427347</td>\n",
       "    </tr>\n",
       "    <tr>\n",
       "      <th>min</th>\n",
       "      <td>2010.000000</td>\n",
       "      <td>1.000000</td>\n",
       "      <td>-6.852344e+03</td>\n",
       "      <td>1.000000</td>\n",
       "      <td>-6.667000e+04</td>\n",
       "      <td>-6.667000e+04</td>\n",
       "      <td>-4.649269</td>\n",
       "    </tr>\n",
       "    <tr>\n",
       "      <th>25%</th>\n",
       "      <td>2013.000000</td>\n",
       "      <td>3.000000</td>\n",
       "      <td>6.685189e+01</td>\n",
       "      <td>8.000000</td>\n",
       "      <td>8.831870e+02</td>\n",
       "      <td>3.988967e+02</td>\n",
       "      <td>0.009907</td>\n",
       "    </tr>\n",
       "    <tr>\n",
       "      <th>50%</th>\n",
       "      <td>2017.000000</td>\n",
       "      <td>6.000000</td>\n",
       "      <td>7.663990e+02</td>\n",
       "      <td>15.000000</td>\n",
       "      <td>9.558855e+03</td>\n",
       "      <td>4.356565e+03</td>\n",
       "      <td>0.082530</td>\n",
       "    </tr>\n",
       "    <tr>\n",
       "      <th>75%</th>\n",
       "      <td>2020.000000</td>\n",
       "      <td>9.000000</td>\n",
       "      <td>4.989495e+03</td>\n",
       "      <td>21.000000</td>\n",
       "      <td>5.927517e+04</td>\n",
       "      <td>3.025087e+04</td>\n",
       "      <td>0.511302</td>\n",
       "    </tr>\n",
       "    <tr>\n",
       "      <th>max</th>\n",
       "      <td>2022.000000</td>\n",
       "      <td>12.000000</td>\n",
       "      <td>1.001529e+06</td>\n",
       "      <td>27.000000</td>\n",
       "      <td>1.082156e+07</td>\n",
       "      <td>1.082156e+07</td>\n",
       "      <td>5.649269</td>\n",
       "    </tr>\n",
       "  </tbody>\n",
       "</table>\n",
       "</div>"
      ],
      "text/plain": [
       "                YEAR          MONTH         VALUE  DISPLAY_ORDER  \\\n",
       "count  181915.000000  181915.000000  1.819150e+05  181915.000000   \n",
       "mean     2016.456818       6.498145  2.091292e+04      14.418410   \n",
       "std         3.657532       3.452288  8.584724e+04       7.819235   \n",
       "min      2010.000000       1.000000 -6.852344e+03       1.000000   \n",
       "25%      2013.000000       3.000000  6.685189e+01       8.000000   \n",
       "50%      2017.000000       6.000000  7.663990e+02      15.000000   \n",
       "75%      2020.000000       9.000000  4.989495e+03      21.000000   \n",
       "max      2022.000000      12.000000  1.001529e+06      27.000000   \n",
       "\n",
       "         yearToDate  previousYearToDate          share  \n",
       "count  1.819150e+05        1.648100e+05  181915.000000  \n",
       "mean   2.509544e+05        1.382083e+05       0.289057  \n",
       "std    1.026864e+06        6.383465e+05       0.427347  \n",
       "min   -6.667000e+04       -6.667000e+04      -4.649269  \n",
       "25%    8.831870e+02        3.988967e+02       0.009907  \n",
       "50%    9.558855e+03        4.356565e+03       0.082530  \n",
       "75%    5.927517e+04        3.025087e+04       0.511302  \n",
       "max    1.082156e+07        1.082156e+07       5.649269  "
      ]
     },
     "execution_count": 49,
     "metadata": {},
     "output_type": "execute_result"
    }
   ],
   "source": [
    "df.describe()"
   ]
  },
  {
   "cell_type": "markdown",
   "id": "4b651ca9-eb5a-43e7-98b4-37e2d8e4ed23",
   "metadata": {},
   "source": [
    "# Agrupar registros por tipo de energia"
   ]
  },
  {
   "cell_type": "code",
   "execution_count": null,
   "id": "d3520f85-970c-472c-8d9f-09a992dc7ff6",
   "metadata": {},
   "outputs": [],
   "source": []
  }
 ],
 "metadata": {
  "kernelspec": {
   "display_name": "Python 3 (ipykernel)",
   "language": "python",
   "name": "python3"
  },
  "language_info": {
   "codemirror_mode": {
    "name": "ipython",
    "version": 3
   },
   "file_extension": ".py",
   "mimetype": "text/x-python",
   "name": "python",
   "nbconvert_exporter": "python",
   "pygments_lexer": "ipython3",
   "version": "3.11.5"
  }
 },
 "nbformat": 4,
 "nbformat_minor": 5
}
