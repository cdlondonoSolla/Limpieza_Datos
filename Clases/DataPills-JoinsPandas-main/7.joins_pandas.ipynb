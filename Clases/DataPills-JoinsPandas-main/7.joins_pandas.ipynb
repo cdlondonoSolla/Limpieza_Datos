{
 "cells": [
  {
   "cell_type": "markdown",
   "id": "1ebbcc63-097d-4a4d-b43b-a399028ecccd",
   "metadata": {
    "tags": []
   },
   "source": [
    "\n",
    "# Joins en Pandas\n",
    "\n",
    "Los joins son una operacion esencial para trabajar con múltiples bases de datos al mismo tiempo. Las operaciones `join` nos permiten unir dos tablas, utilizando como referencia una columna común. \n"
   ]
  },
  {
   "cell_type": "markdown",
   "id": "c545e4d8-bc59-44ff-bb6d-d423a9a8871b",
   "metadata": {},
   "source": [
    "En el mundo SQL, la unión de tablas se realiza a través de las operaciones JOIN. \n",
    "\n",
    "Pandas ofrece esta misma funcionalidad a través del método `.merge()` aplicado a uno de los DataFrames, y que toma como argumento el otro dataframe que queremos unir. \n",
    "\n",
    "Con el argumento `how`, especificaremos el tipo de join que queremos hacer. Los cuatro tipos principales de join se ilustran en la siguiente imagen:"
   ]
  },
  {
   "cell_type": "markdown",
   "id": "d339b46c-65bd-45f0-aa3a-3577e32bef1c",
   "metadata": {},
   "source": [
    "\n",
    "\n",
    "<center><img src='https://miro.medium.com/max/1200/1*9eH1_7VbTZPZd9jBiGIyNA.png\n",
    "' width=\"600\"></center>\n"
   ]
  },
  {
   "cell_type": "markdown",
   "id": "34360bb1-a0c2-4c5f-a275-b4a9529b2062",
   "metadata": {
    "tags": []
   },
   "source": [
    "## Joins en la práctica\n"
   ]
  },
  {
   "cell_type": "markdown",
   "id": "769efcbf-be42-4904-9379-a5935bc86ffd",
   "metadata": {},
   "source": [
    "Supongamos que tenemos las dos siguientes tablas con artistas y álbumes:"
   ]
  },
  {
   "cell_type": "code",
   "execution_count": 9,
   "id": "b376fae3-359b-45e9-9936-0545526d5afe",
   "metadata": {
    "tags": []
   },
   "outputs": [],
   "source": [
    "# Importamos pandas\n",
    "import pandas as pd\n",
    "\n",
    "\n",
    "albums = pd.DataFrame({\"titulo\":[\"Sticky Fingers\", \"Pearl\", \"Abbey Road\", \"Uprising\"],\n",
    "                       \"artista\":[\"The Rolling Stones\", \"Janis Joplin\", \"The Beatles\", \"Bob Marley\"],\n",
    "                       \"lanzamiento\":[1971,1971,1969,1980],\n",
    "                       \"tracks\":[10, 10, 17, 10]})\n",
    "\n",
    "artists = pd.DataFrame({\"artista\":[\"The Beatles\", \"Janis Joplin\", \"The Rolling Stones\", \"Bob Dylan\"],\n",
    "                       \"nacionalidad\":[\"UK\", \"US\", \"UK\",\"US\"],\n",
    "                       \"albums\":[12, 3, 31, 40],\n",
    "                       \"activo\":[False,False,True,True]})"
   ]
  },
  {
   "cell_type": "code",
   "execution_count": 11,
   "id": "62119069-d7c0-4c29-b1ff-1d58cdf398c4",
   "metadata": {
    "tags": []
   },
   "outputs": [
    {
     "data": {
      "text/html": [
       "<div>\n",
       "<style scoped>\n",
       "    .dataframe tbody tr th:only-of-type {\n",
       "        vertical-align: middle;\n",
       "    }\n",
       "\n",
       "    .dataframe tbody tr th {\n",
       "        vertical-align: top;\n",
       "    }\n",
       "\n",
       "    .dataframe thead th {\n",
       "        text-align: right;\n",
       "    }\n",
       "</style>\n",
       "<table border=\"1\" class=\"dataframe\">\n",
       "  <thead>\n",
       "    <tr style=\"text-align: right;\">\n",
       "      <th></th>\n",
       "      <th>titulo</th>\n",
       "      <th>artista</th>\n",
       "      <th>lanzamiento</th>\n",
       "      <th>tracks</th>\n",
       "    </tr>\n",
       "  </thead>\n",
       "  <tbody>\n",
       "    <tr>\n",
       "      <th>0</th>\n",
       "      <td>Sticky Fingers</td>\n",
       "      <td>The Rolling Stones</td>\n",
       "      <td>1971</td>\n",
       "      <td>10</td>\n",
       "    </tr>\n",
       "    <tr>\n",
       "      <th>1</th>\n",
       "      <td>Pearl</td>\n",
       "      <td>Janis Joplin</td>\n",
       "      <td>1971</td>\n",
       "      <td>10</td>\n",
       "    </tr>\n",
       "    <tr>\n",
       "      <th>2</th>\n",
       "      <td>Abbey Road</td>\n",
       "      <td>The Beatles</td>\n",
       "      <td>1969</td>\n",
       "      <td>17</td>\n",
       "    </tr>\n",
       "    <tr>\n",
       "      <th>3</th>\n",
       "      <td>Uprising</td>\n",
       "      <td>Bob Marley</td>\n",
       "      <td>1980</td>\n",
       "      <td>10</td>\n",
       "    </tr>\n",
       "  </tbody>\n",
       "</table>\n",
       "</div>"
      ],
      "text/plain": [
       "           titulo             artista  lanzamiento  tracks\n",
       "0  Sticky Fingers  The Rolling Stones         1971      10\n",
       "1           Pearl        Janis Joplin         1971      10\n",
       "2      Abbey Road         The Beatles         1969      17\n",
       "3        Uprising          Bob Marley         1980      10"
      ]
     },
     "execution_count": 11,
     "metadata": {},
     "output_type": "execute_result"
    }
   ],
   "source": [
    "albums"
   ]
  },
  {
   "cell_type": "code",
   "execution_count": 13,
   "id": "86f4575e-161d-4d02-b6a4-6ed9650ac70c",
   "metadata": {
    "tags": []
   },
   "outputs": [
    {
     "data": {
      "text/html": [
       "<div>\n",
       "<style scoped>\n",
       "    .dataframe tbody tr th:only-of-type {\n",
       "        vertical-align: middle;\n",
       "    }\n",
       "\n",
       "    .dataframe tbody tr th {\n",
       "        vertical-align: top;\n",
       "    }\n",
       "\n",
       "    .dataframe thead th {\n",
       "        text-align: right;\n",
       "    }\n",
       "</style>\n",
       "<table border=\"1\" class=\"dataframe\">\n",
       "  <thead>\n",
       "    <tr style=\"text-align: right;\">\n",
       "      <th></th>\n",
       "      <th>artista</th>\n",
       "      <th>nacionalidad</th>\n",
       "      <th>albums</th>\n",
       "      <th>activo</th>\n",
       "    </tr>\n",
       "  </thead>\n",
       "  <tbody>\n",
       "    <tr>\n",
       "      <th>0</th>\n",
       "      <td>The Beatles</td>\n",
       "      <td>UK</td>\n",
       "      <td>12</td>\n",
       "      <td>False</td>\n",
       "    </tr>\n",
       "    <tr>\n",
       "      <th>1</th>\n",
       "      <td>Janis Joplin</td>\n",
       "      <td>US</td>\n",
       "      <td>3</td>\n",
       "      <td>False</td>\n",
       "    </tr>\n",
       "    <tr>\n",
       "      <th>2</th>\n",
       "      <td>The Rolling Stones</td>\n",
       "      <td>UK</td>\n",
       "      <td>31</td>\n",
       "      <td>True</td>\n",
       "    </tr>\n",
       "    <tr>\n",
       "      <th>3</th>\n",
       "      <td>Bob Dylan</td>\n",
       "      <td>US</td>\n",
       "      <td>40</td>\n",
       "      <td>True</td>\n",
       "    </tr>\n",
       "  </tbody>\n",
       "</table>\n",
       "</div>"
      ],
      "text/plain": [
       "              artista nacionalidad  albums  activo\n",
       "0         The Beatles           UK      12   False\n",
       "1        Janis Joplin           US       3   False\n",
       "2  The Rolling Stones           UK      31    True\n",
       "3           Bob Dylan           US      40    True"
      ]
     },
     "execution_count": 13,
     "metadata": {},
     "output_type": "execute_result"
    }
   ],
   "source": [
    "artists"
   ]
  },
  {
   "cell_type": "markdown",
   "id": "b6db17da-662f-4bf8-adda-27e635f5a821",
   "metadata": {},
   "source": [
    "### INNER JOIN\n",
    "`Inner join` nos devuelve la unión de las tablas por la columna indicada, mostrando solo los valores coincidentes "
   ]
  },
  {
   "cell_type": "code",
   "execution_count": 10,
   "id": "7b8320ee-b979-4564-ac1b-f7a58cc37e52",
   "metadata": {
    "tags": []
   },
   "outputs": [
    {
     "data": {
      "text/html": [
       "<div>\n",
       "<style scoped>\n",
       "    .dataframe tbody tr th:only-of-type {\n",
       "        vertical-align: middle;\n",
       "    }\n",
       "\n",
       "    .dataframe tbody tr th {\n",
       "        vertical-align: top;\n",
       "    }\n",
       "\n",
       "    .dataframe thead th {\n",
       "        text-align: right;\n",
       "    }\n",
       "</style>\n",
       "<table border=\"1\" class=\"dataframe\">\n",
       "  <thead>\n",
       "    <tr style=\"text-align: right;\">\n",
       "      <th></th>\n",
       "      <th>titulo</th>\n",
       "      <th>artista</th>\n",
       "      <th>lanzamiento</th>\n",
       "      <th>tracks</th>\n",
       "      <th>nacionalidad</th>\n",
       "      <th>albums</th>\n",
       "      <th>activo</th>\n",
       "    </tr>\n",
       "  </thead>\n",
       "  <tbody>\n",
       "    <tr>\n",
       "      <th>0</th>\n",
       "      <td>Sticky Fingers</td>\n",
       "      <td>The Rolling Stones</td>\n",
       "      <td>1971</td>\n",
       "      <td>10</td>\n",
       "      <td>UK</td>\n",
       "      <td>31</td>\n",
       "      <td>True</td>\n",
       "    </tr>\n",
       "    <tr>\n",
       "      <th>1</th>\n",
       "      <td>Pearl</td>\n",
       "      <td>Janis Joplin</td>\n",
       "      <td>1971</td>\n",
       "      <td>10</td>\n",
       "      <td>US</td>\n",
       "      <td>3</td>\n",
       "      <td>False</td>\n",
       "    </tr>\n",
       "    <tr>\n",
       "      <th>2</th>\n",
       "      <td>Abbey Road</td>\n",
       "      <td>The Beatles</td>\n",
       "      <td>1969</td>\n",
       "      <td>17</td>\n",
       "      <td>UK</td>\n",
       "      <td>12</td>\n",
       "      <td>False</td>\n",
       "    </tr>\n",
       "  </tbody>\n",
       "</table>\n",
       "</div>"
      ],
      "text/plain": [
       "           titulo             artista  lanzamiento  tracks nacionalidad  \\\n",
       "0  Sticky Fingers  The Rolling Stones         1971      10           UK   \n",
       "1           Pearl        Janis Joplin         1971      10           US   \n",
       "2      Abbey Road         The Beatles         1969      17           UK   \n",
       "\n",
       "   albums  activo  \n",
       "0      31    True  \n",
       "1       3   False  \n",
       "2      12   False  "
      ]
     },
     "execution_count": 10,
     "metadata": {},
     "output_type": "execute_result"
    }
   ],
   "source": [
    "### inner join \n",
    "albums.merge(artists, how=\"inner\", on=\"artista\")"
   ]
  },
  {
   "cell_type": "markdown",
   "id": "f4fb5ddc-9301-4185-a4a1-17b5e3a6fa46",
   "metadata": {},
   "source": [
    "### OUTER JOIN\n",
    "`Outer join` nos devuelve las unión de las tablas por la columna común indicada, independientemente de que los valores coincidan o no"
   ]
  },
  {
   "cell_type": "code",
   "execution_count": 64,
   "id": "eed9f72c-2904-4de3-931c-8af79fcd007a",
   "metadata": {
    "tags": []
   },
   "outputs": [
    {
     "data": {
      "text/html": [
       "<div>\n",
       "<style scoped>\n",
       "    .dataframe tbody tr th:only-of-type {\n",
       "        vertical-align: middle;\n",
       "    }\n",
       "\n",
       "    .dataframe tbody tr th {\n",
       "        vertical-align: top;\n",
       "    }\n",
       "\n",
       "    .dataframe thead th {\n",
       "        text-align: right;\n",
       "    }\n",
       "</style>\n",
       "<table border=\"1\" class=\"dataframe\">\n",
       "  <thead>\n",
       "    <tr style=\"text-align: right;\">\n",
       "      <th></th>\n",
       "      <th>titulo</th>\n",
       "      <th>artista</th>\n",
       "      <th>lanzamiento</th>\n",
       "      <th>tracks</th>\n",
       "      <th>nacionalidad</th>\n",
       "      <th>albums</th>\n",
       "      <th>activo</th>\n",
       "    </tr>\n",
       "  </thead>\n",
       "  <tbody>\n",
       "    <tr>\n",
       "      <th>0</th>\n",
       "      <td>Sticky Fingers</td>\n",
       "      <td>The Rolling Stones</td>\n",
       "      <td>1971.0</td>\n",
       "      <td>10.0</td>\n",
       "      <td>UK</td>\n",
       "      <td>31.0</td>\n",
       "      <td>True</td>\n",
       "    </tr>\n",
       "    <tr>\n",
       "      <th>1</th>\n",
       "      <td>Pearl</td>\n",
       "      <td>Janis Joplin</td>\n",
       "      <td>1971.0</td>\n",
       "      <td>10.0</td>\n",
       "      <td>US</td>\n",
       "      <td>3.0</td>\n",
       "      <td>False</td>\n",
       "    </tr>\n",
       "    <tr>\n",
       "      <th>2</th>\n",
       "      <td>Abbey Road</td>\n",
       "      <td>The Beatles</td>\n",
       "      <td>1969.0</td>\n",
       "      <td>17.0</td>\n",
       "      <td>UK</td>\n",
       "      <td>12.0</td>\n",
       "      <td>False</td>\n",
       "    </tr>\n",
       "    <tr>\n",
       "      <th>3</th>\n",
       "      <td>Uprising</td>\n",
       "      <td>Bob Marley</td>\n",
       "      <td>1980.0</td>\n",
       "      <td>10.0</td>\n",
       "      <td>NaN</td>\n",
       "      <td>NaN</td>\n",
       "      <td>NaN</td>\n",
       "    </tr>\n",
       "    <tr>\n",
       "      <th>4</th>\n",
       "      <td>NaN</td>\n",
       "      <td>Bob Dylan</td>\n",
       "      <td>NaN</td>\n",
       "      <td>NaN</td>\n",
       "      <td>US</td>\n",
       "      <td>40.0</td>\n",
       "      <td>True</td>\n",
       "    </tr>\n",
       "  </tbody>\n",
       "</table>\n",
       "</div>"
      ],
      "text/plain": [
       "           titulo             artista  lanzamiento  tracks nacionalidad  \\\n",
       "0  Sticky Fingers  The Rolling Stones       1971.0    10.0           UK   \n",
       "1           Pearl        Janis Joplin       1971.0    10.0           US   \n",
       "2      Abbey Road         The Beatles       1969.0    17.0           UK   \n",
       "3        Uprising          Bob Marley       1980.0    10.0          NaN   \n",
       "4             NaN           Bob Dylan          NaN     NaN           US   \n",
       "\n",
       "   albums activo  \n",
       "0    31.0   True  \n",
       "1     3.0  False  \n",
       "2    12.0  False  \n",
       "3     NaN    NaN  \n",
       "4    40.0   True  "
      ]
     },
     "execution_count": 64,
     "metadata": {},
     "output_type": "execute_result"
    }
   ],
   "source": [
    "# outter join\n",
    "albums.merge(artists, how=\"outer\", on=\"artista\")"
   ]
  },
  {
   "cell_type": "markdown",
   "id": "925f757e-bfed-4f00-ae54-319e1032eb71",
   "metadata": {},
   "source": [
    "### LEFT JOIN\n",
    "`Left join` nos devuelve la unión de las tablas manteniendo exclusivamente los valores de la tabla que pasamos a la izquierda"
   ]
  },
  {
   "cell_type": "code",
   "execution_count": 12,
   "id": "8589ef1e-19dd-430b-894a-9ef09ffe7889",
   "metadata": {
    "tags": []
   },
   "outputs": [
    {
     "data": {
      "text/html": [
       "<div>\n",
       "<style scoped>\n",
       "    .dataframe tbody tr th:only-of-type {\n",
       "        vertical-align: middle;\n",
       "    }\n",
       "\n",
       "    .dataframe tbody tr th {\n",
       "        vertical-align: top;\n",
       "    }\n",
       "\n",
       "    .dataframe thead th {\n",
       "        text-align: right;\n",
       "    }\n",
       "</style>\n",
       "<table border=\"1\" class=\"dataframe\">\n",
       "  <thead>\n",
       "    <tr style=\"text-align: right;\">\n",
       "      <th></th>\n",
       "      <th>titulo</th>\n",
       "      <th>artista</th>\n",
       "      <th>lanzamiento</th>\n",
       "      <th>tracks</th>\n",
       "      <th>nacionalidad</th>\n",
       "      <th>albums</th>\n",
       "      <th>activo</th>\n",
       "    </tr>\n",
       "  </thead>\n",
       "  <tbody>\n",
       "    <tr>\n",
       "      <th>0</th>\n",
       "      <td>Sticky Fingers</td>\n",
       "      <td>The Rolling Stones</td>\n",
       "      <td>1971</td>\n",
       "      <td>10</td>\n",
       "      <td>UK</td>\n",
       "      <td>31.0</td>\n",
       "      <td>True</td>\n",
       "    </tr>\n",
       "    <tr>\n",
       "      <th>1</th>\n",
       "      <td>Pearl</td>\n",
       "      <td>Janis Joplin</td>\n",
       "      <td>1971</td>\n",
       "      <td>10</td>\n",
       "      <td>US</td>\n",
       "      <td>3.0</td>\n",
       "      <td>False</td>\n",
       "    </tr>\n",
       "    <tr>\n",
       "      <th>2</th>\n",
       "      <td>Abbey Road</td>\n",
       "      <td>The Beatles</td>\n",
       "      <td>1969</td>\n",
       "      <td>17</td>\n",
       "      <td>UK</td>\n",
       "      <td>12.0</td>\n",
       "      <td>False</td>\n",
       "    </tr>\n",
       "    <tr>\n",
       "      <th>3</th>\n",
       "      <td>Uprising</td>\n",
       "      <td>Bob Marley</td>\n",
       "      <td>1980</td>\n",
       "      <td>10</td>\n",
       "      <td>NaN</td>\n",
       "      <td>NaN</td>\n",
       "      <td>NaN</td>\n",
       "    </tr>\n",
       "  </tbody>\n",
       "</table>\n",
       "</div>"
      ],
      "text/plain": [
       "           titulo             artista  lanzamiento  tracks nacionalidad  \\\n",
       "0  Sticky Fingers  The Rolling Stones         1971      10           UK   \n",
       "1           Pearl        Janis Joplin         1971      10           US   \n",
       "2      Abbey Road         The Beatles         1969      17           UK   \n",
       "3        Uprising          Bob Marley         1980      10          NaN   \n",
       "\n",
       "   albums activo  \n",
       "0    31.0   True  \n",
       "1     3.0  False  \n",
       "2    12.0  False  \n",
       "3     NaN    NaN  "
      ]
     },
     "execution_count": 12,
     "metadata": {},
     "output_type": "execute_result"
    }
   ],
   "source": [
    "# left join\n",
    "albums.merge(artists, how=\"left\", on=\"artista\")"
   ]
  },
  {
   "cell_type": "markdown",
   "id": "41fdf0a3-0eb0-45dd-aa45-bdd7fb00e3ca",
   "metadata": {},
   "source": [
    "### LEFT JOIN\n",
    "`Left join` nos devuelve la unión de las tablas manteniendo exclusivamente los valores de la tabla que pasamos a la derecha. Realmente es lo mismo que el `left join` si cambiamos el orden de los datafrmes"
   ]
  },
  {
   "cell_type": "code",
   "execution_count": 14,
   "id": "15b9f62e-4e14-4c90-b868-e02f1312e730",
   "metadata": {
    "tags": []
   },
   "outputs": [
    {
     "data": {
      "text/html": [
       "<div>\n",
       "<style scoped>\n",
       "    .dataframe tbody tr th:only-of-type {\n",
       "        vertical-align: middle;\n",
       "    }\n",
       "\n",
       "    .dataframe tbody tr th {\n",
       "        vertical-align: top;\n",
       "    }\n",
       "\n",
       "    .dataframe thead th {\n",
       "        text-align: right;\n",
       "    }\n",
       "</style>\n",
       "<table border=\"1\" class=\"dataframe\">\n",
       "  <thead>\n",
       "    <tr style=\"text-align: right;\">\n",
       "      <th></th>\n",
       "      <th>titulo</th>\n",
       "      <th>artista</th>\n",
       "      <th>lanzamiento</th>\n",
       "      <th>tracks</th>\n",
       "      <th>nacionalidad</th>\n",
       "      <th>albums</th>\n",
       "      <th>activo</th>\n",
       "    </tr>\n",
       "  </thead>\n",
       "  <tbody>\n",
       "    <tr>\n",
       "      <th>0</th>\n",
       "      <td>Abbey Road</td>\n",
       "      <td>The Beatles</td>\n",
       "      <td>1969.0</td>\n",
       "      <td>17.0</td>\n",
       "      <td>UK</td>\n",
       "      <td>12</td>\n",
       "      <td>False</td>\n",
       "    </tr>\n",
       "    <tr>\n",
       "      <th>1</th>\n",
       "      <td>Pearl</td>\n",
       "      <td>Janis Joplin</td>\n",
       "      <td>1971.0</td>\n",
       "      <td>10.0</td>\n",
       "      <td>US</td>\n",
       "      <td>3</td>\n",
       "      <td>False</td>\n",
       "    </tr>\n",
       "    <tr>\n",
       "      <th>2</th>\n",
       "      <td>Sticky Fingers</td>\n",
       "      <td>The Rolling Stones</td>\n",
       "      <td>1971.0</td>\n",
       "      <td>10.0</td>\n",
       "      <td>UK</td>\n",
       "      <td>31</td>\n",
       "      <td>True</td>\n",
       "    </tr>\n",
       "    <tr>\n",
       "      <th>3</th>\n",
       "      <td>NaN</td>\n",
       "      <td>Bob Dylan</td>\n",
       "      <td>NaN</td>\n",
       "      <td>NaN</td>\n",
       "      <td>US</td>\n",
       "      <td>40</td>\n",
       "      <td>True</td>\n",
       "    </tr>\n",
       "  </tbody>\n",
       "</table>\n",
       "</div>"
      ],
      "text/plain": [
       "           titulo             artista  lanzamiento  tracks nacionalidad  \\\n",
       "0      Abbey Road         The Beatles       1969.0    17.0           UK   \n",
       "1           Pearl        Janis Joplin       1971.0    10.0           US   \n",
       "2  Sticky Fingers  The Rolling Stones       1971.0    10.0           UK   \n",
       "3             NaN           Bob Dylan          NaN     NaN           US   \n",
       "\n",
       "   albums  activo  \n",
       "0      12   False  \n",
       "1       3   False  \n",
       "2      31    True  \n",
       "3      40    True  "
      ]
     },
     "execution_count": 14,
     "metadata": {},
     "output_type": "execute_result"
    }
   ],
   "source": [
    "# right join\n",
    "albums.merge(artists, how=\"right\", on=\"artista\")"
   ]
  },
  {
   "cell_type": "markdown",
   "id": "213c5d34-f7a6-4462-a022-286101b9a18d",
   "metadata": {},
   "source": [
    "Hay muchos más parámetros que podemos meter a .merge(), pero lo básico es esto. Dejo la documentación [aquí](https://pandas.pydata.org/pandas-docs/stable/reference/api/pandas.DataFrame.merge.html)"
   ]
  }
 ],
 "metadata": {
  "kernelspec": {
   "display_name": "Python 3 (ipykernel)",
   "language": "python",
   "name": "python3"
  },
  "language_info": {
   "codemirror_mode": {
    "name": "ipython",
    "version": 3
   },
   "file_extension": ".py",
   "mimetype": "text/x-python",
   "name": "python",
   "nbconvert_exporter": "python",
   "pygments_lexer": "ipython3",
   "version": "3.12.7"
  }
 },
 "nbformat": 4,
 "nbformat_minor": 5
}
