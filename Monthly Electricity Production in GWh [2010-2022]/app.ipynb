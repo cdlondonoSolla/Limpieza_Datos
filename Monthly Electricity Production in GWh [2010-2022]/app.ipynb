{
 "cells": [
  {
   "cell_type": "code",
   "execution_count": 1,
   "id": "0a0a5faa-5a20-4b55-bf25-391fc523081b",
   "metadata": {
    "tags": []
   },
   "outputs": [],
   "source": [
    "import pandas as pd # Libreria para el análisis y mannejo de los datos\n",
    "import numpy as np  #Libreria para trabajar con calculos numericos y matrices"
   ]
  },
  {
   "cell_type": "code",
   "execution_count": 2,
   "id": "fb37fef4-bd52-4033-b5d8-d93572a53ea4",
   "metadata": {
    "tags": []
   },
   "outputs": [],
   "source": [
    "salaries = pd.read_csv(\"data.csv\")"
   ]
  },
  {
   "cell_type": "code",
   "execution_count": 4,
   "id": "e5c52007-c665-4098-a128-9683ba280857",
   "metadata": {
    "tags": []
   },
   "outputs": [
    {
     "name": "stdout",
     "output_type": "stream",
     "text": [
      "<class 'pandas.core.frame.DataFrame'>\n",
      "RangeIndex: 181915 entries, 0 to 181914\n",
      "Data columns (total 12 columns):\n",
      " #   Column              Non-Null Count   Dtype  \n",
      "---  ------              --------------   -----  \n",
      " 0   COUNTRY             181915 non-null  object \n",
      " 1   CODE_TIME           181915 non-null  object \n",
      " 2   TIME                181915 non-null  object \n",
      " 3   YEAR                181915 non-null  int64  \n",
      " 4   MONTH               181915 non-null  int64  \n",
      " 5   MONTH_NAME          181915 non-null  object \n",
      " 6   PRODUCT             181915 non-null  object \n",
      " 7   VALUE               181915 non-null  float64\n",
      " 8   DISPLAY_ORDER       181915 non-null  int64  \n",
      " 9   yearToDate          181915 non-null  float64\n",
      " 10  previousYearToDate  164810 non-null  float64\n",
      " 11  share               181915 non-null  float64\n",
      "dtypes: float64(4), int64(3), object(5)\n",
      "memory usage: 16.7+ MB\n"
     ]
    }
   ],
   "source": [
    "salaries.info()"
   ]
  },
  {
   "cell_type": "code",
   "execution_count": 5,
   "id": "2b58c6dc-d46b-498a-9e3b-69642e38aa5c",
   "metadata": {
    "tags": []
   },
   "outputs": [
    {
     "data": {
      "text/html": [
       "<div>\n",
       "<style scoped>\n",
       "    .dataframe tbody tr th:only-of-type {\n",
       "        vertical-align: middle;\n",
       "    }\n",
       "\n",
       "    .dataframe tbody tr th {\n",
       "        vertical-align: top;\n",
       "    }\n",
       "\n",
       "    .dataframe thead th {\n",
       "        text-align: right;\n",
       "    }\n",
       "</style>\n",
       "<table border=\"1\" class=\"dataframe\">\n",
       "  <thead>\n",
       "    <tr style=\"text-align: right;\">\n",
       "      <th></th>\n",
       "      <th>COUNTRY</th>\n",
       "      <th>CODE_TIME</th>\n",
       "      <th>TIME</th>\n",
       "      <th>YEAR</th>\n",
       "      <th>MONTH</th>\n",
       "      <th>MONTH_NAME</th>\n",
       "      <th>PRODUCT</th>\n",
       "      <th>VALUE</th>\n",
       "      <th>DISPLAY_ORDER</th>\n",
       "      <th>yearToDate</th>\n",
       "      <th>previousYearToDate</th>\n",
       "      <th>share</th>\n",
       "    </tr>\n",
       "  </thead>\n",
       "  <tbody>\n",
       "    <tr>\n",
       "      <th>0</th>\n",
       "      <td>Australia</td>\n",
       "      <td>JAN2010</td>\n",
       "      <td>January 2010</td>\n",
       "      <td>2010</td>\n",
       "      <td>1</td>\n",
       "      <td>January</td>\n",
       "      <td>Hydro</td>\n",
       "      <td>990.728</td>\n",
       "      <td>1</td>\n",
       "      <td>16471.891</td>\n",
       "      <td>NaN</td>\n",
       "      <td>0.047771</td>\n",
       "    </tr>\n",
       "    <tr>\n",
       "      <th>1</th>\n",
       "      <td>Australia</td>\n",
       "      <td>JAN2010</td>\n",
       "      <td>January 2010</td>\n",
       "      <td>2010</td>\n",
       "      <td>1</td>\n",
       "      <td>January</td>\n",
       "      <td>Wind</td>\n",
       "      <td>409.469</td>\n",
       "      <td>2</td>\n",
       "      <td>4940.909</td>\n",
       "      <td>NaN</td>\n",
       "      <td>0.019744</td>\n",
       "    </tr>\n",
       "    <tr>\n",
       "      <th>2</th>\n",
       "      <td>Australia</td>\n",
       "      <td>JAN2010</td>\n",
       "      <td>January 2010</td>\n",
       "      <td>2010</td>\n",
       "      <td>1</td>\n",
       "      <td>January</td>\n",
       "      <td>Solar</td>\n",
       "      <td>49.216</td>\n",
       "      <td>3</td>\n",
       "      <td>908.238</td>\n",
       "      <td>NaN</td>\n",
       "      <td>0.002373</td>\n",
       "    </tr>\n",
       "    <tr>\n",
       "      <th>3</th>\n",
       "      <td>Australia</td>\n",
       "      <td>JAN2010</td>\n",
       "      <td>January 2010</td>\n",
       "      <td>2010</td>\n",
       "      <td>1</td>\n",
       "      <td>January</td>\n",
       "      <td>Geothermal</td>\n",
       "      <td>0.083</td>\n",
       "      <td>4</td>\n",
       "      <td>0.996</td>\n",
       "      <td>NaN</td>\n",
       "      <td>0.000004</td>\n",
       "    </tr>\n",
       "    <tr>\n",
       "      <th>4</th>\n",
       "      <td>Australia</td>\n",
       "      <td>JAN2010</td>\n",
       "      <td>January 2010</td>\n",
       "      <td>2010</td>\n",
       "      <td>1</td>\n",
       "      <td>January</td>\n",
       "      <td>Total combustible fuels</td>\n",
       "      <td>19289.730</td>\n",
       "      <td>7</td>\n",
       "      <td>214302.969</td>\n",
       "      <td>NaN</td>\n",
       "      <td>0.930108</td>\n",
       "    </tr>\n",
       "  </tbody>\n",
       "</table>\n",
       "</div>"
      ],
      "text/plain": [
       "     COUNTRY CODE_TIME          TIME  YEAR  MONTH MONTH_NAME  \\\n",
       "0  Australia   JAN2010  January 2010  2010      1    January   \n",
       "1  Australia   JAN2010  January 2010  2010      1    January   \n",
       "2  Australia   JAN2010  January 2010  2010      1    January   \n",
       "3  Australia   JAN2010  January 2010  2010      1    January   \n",
       "4  Australia   JAN2010  January 2010  2010      1    January   \n",
       "\n",
       "                   PRODUCT      VALUE  DISPLAY_ORDER  yearToDate  \\\n",
       "0                    Hydro    990.728              1   16471.891   \n",
       "1                     Wind    409.469              2    4940.909   \n",
       "2                    Solar     49.216              3     908.238   \n",
       "3               Geothermal      0.083              4       0.996   \n",
       "4  Total combustible fuels  19289.730              7  214302.969   \n",
       "\n",
       "   previousYearToDate     share  \n",
       "0                 NaN  0.047771  \n",
       "1                 NaN  0.019744  \n",
       "2                 NaN  0.002373  \n",
       "3                 NaN  0.000004  \n",
       "4                 NaN  0.930108  "
      ]
     },
     "execution_count": 5,
     "metadata": {},
     "output_type": "execute_result"
    }
   ],
   "source": [
    "salaries.head()"
   ]
  },
  {
   "cell_type": "code",
   "execution_count": null,
   "id": "85e98b16-72cf-49fd-ab64-1f339afd0a8f",
   "metadata": {},
   "outputs": [],
   "source": []
  }
 ],
 "metadata": {
  "kernelspec": {
   "display_name": "Python 3 (ipykernel)",
   "language": "python",
   "name": "python3"
  },
  "language_info": {
   "codemirror_mode": {
    "name": "ipython",
    "version": 3
   },
   "file_extension": ".py",
   "mimetype": "text/x-python",
   "name": "python",
   "nbconvert_exporter": "python",
   "pygments_lexer": "ipython3",
   "version": "3.11.5"
  }
 },
 "nbformat": 4,
 "nbformat_minor": 5
}
