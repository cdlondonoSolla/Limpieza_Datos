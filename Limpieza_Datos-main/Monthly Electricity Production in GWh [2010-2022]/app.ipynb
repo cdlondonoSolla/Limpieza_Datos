{
 "cells": [
  {
   "cell_type": "markdown",
   "id": "6b78448e-f049-404d-a071-c8f7a58a4b86",
   "metadata": {
    "tags": []
   },
   "source": [
    "# Monthly Electricity Statistics"
   ]
  },
  {
   "cell_type": "markdown",
   "id": "f8d39630-5227-4712-9674-30561660389e",
   "metadata": {},
   "source": [
    "## Cargue Dataset"
   ]
  },
  {
   "cell_type": "code",
   "execution_count": 1,
   "id": "0a0a5faa-5a20-4b55-bf25-391fc523081b",
   "metadata": {
    "tags": []
   },
   "outputs": [],
   "source": [
    "# importar liberarias\n",
    "\n",
    "import seaborn as sns\n",
    "import matplotlib.pyplot as plt\n",
    "import pandas as pd\n",
    "import numpy as np"
   ]
  },
  {
   "cell_type": "code",
   "execution_count": 2,
   "id": "fb37fef4-bd52-4033-b5d8-d93572a53ea4",
   "metadata": {
    "tags": []
   },
   "outputs": [],
   "source": [
    "# Se carga el DataFrame y se muestra la informacion de las columnas\n",
    "\n",
    "df = pd.read_csv(\"data.csv\")\n",
    "df.info()"
   ]
  },
  {
   "cell_type": "code",
   "execution_count": 4,
   "id": "2b58c6dc-d46b-498a-9e3b-69642e38aa5c",
   "metadata": {
    "tags": []
   },
   "outputs": [
    {
     "data": {
      "text/html": [
       "<div>\n",
       "<style scoped>\n",
       "    .dataframe tbody tr th:only-of-type {\n",
       "        vertical-align: middle;\n",
       "    }\n",
       "\n",
       "    .dataframe tbody tr th {\n",
       "        vertical-align: top;\n",
       "    }\n",
       "\n",
       "    .dataframe thead th {\n",
       "        text-align: right;\n",
       "    }\n",
       "</style>\n",
       "<table border=\"1\" class=\"dataframe\">\n",
       "  <thead>\n",
       "    <tr style=\"text-align: right;\">\n",
       "      <th></th>\n",
       "      <th>COUNTRY</th>\n",
       "      <th>CODE_TIME</th>\n",
       "      <th>TIME</th>\n",
       "      <th>YEAR</th>\n",
       "      <th>MONTH</th>\n",
       "      <th>MONTH_NAME</th>\n",
       "      <th>PRODUCT</th>\n",
       "      <th>VALUE</th>\n",
       "      <th>DISPLAY_ORDER</th>\n",
       "      <th>yearToDate</th>\n",
       "      <th>previousYearToDate</th>\n",
       "      <th>share</th>\n",
       "    </tr>\n",
       "  </thead>\n",
       "  <tbody>\n",
       "    <tr>\n",
       "      <th>0</th>\n",
       "      <td>Australia</td>\n",
       "      <td>JAN2010</td>\n",
       "      <td>January 2010</td>\n",
       "      <td>2010</td>\n",
       "      <td>1</td>\n",
       "      <td>January</td>\n",
       "      <td>Hydro</td>\n",
       "      <td>990.728</td>\n",
       "      <td>1</td>\n",
       "      <td>16471.891</td>\n",
       "      <td>NaN</td>\n",
       "      <td>0.047771</td>\n",
       "    </tr>\n",
       "    <tr>\n",
       "      <th>1</th>\n",
       "      <td>Australia</td>\n",
       "      <td>JAN2010</td>\n",
       "      <td>January 2010</td>\n",
       "      <td>2010</td>\n",
       "      <td>1</td>\n",
       "      <td>January</td>\n",
       "      <td>Wind</td>\n",
       "      <td>409.469</td>\n",
       "      <td>2</td>\n",
       "      <td>4940.909</td>\n",
       "      <td>NaN</td>\n",
       "      <td>0.019744</td>\n",
       "    </tr>\n",
       "    <tr>\n",
       "      <th>2</th>\n",
       "      <td>Australia</td>\n",
       "      <td>JAN2010</td>\n",
       "      <td>January 2010</td>\n",
       "      <td>2010</td>\n",
       "      <td>1</td>\n",
       "      <td>January</td>\n",
       "      <td>Solar</td>\n",
       "      <td>49.216</td>\n",
       "      <td>3</td>\n",
       "      <td>908.238</td>\n",
       "      <td>NaN</td>\n",
       "      <td>0.002373</td>\n",
       "    </tr>\n",
       "    <tr>\n",
       "      <th>3</th>\n",
       "      <td>Australia</td>\n",
       "      <td>JAN2010</td>\n",
       "      <td>January 2010</td>\n",
       "      <td>2010</td>\n",
       "      <td>1</td>\n",
       "      <td>January</td>\n",
       "      <td>Geothermal</td>\n",
       "      <td>0.083</td>\n",
       "      <td>4</td>\n",
       "      <td>0.996</td>\n",
       "      <td>NaN</td>\n",
       "      <td>0.000004</td>\n",
       "    </tr>\n",
       "    <tr>\n",
       "      <th>4</th>\n",
       "      <td>Australia</td>\n",
       "      <td>JAN2010</td>\n",
       "      <td>January 2010</td>\n",
       "      <td>2010</td>\n",
       "      <td>1</td>\n",
       "      <td>January</td>\n",
       "      <td>Total combustible fuels</td>\n",
       "      <td>19289.730</td>\n",
       "      <td>7</td>\n",
       "      <td>214302.969</td>\n",
       "      <td>NaN</td>\n",
       "      <td>0.930108</td>\n",
       "    </tr>\n",
       "  </tbody>\n",
       "</table>\n",
       "</div>"
      ],
      "text/plain": [
       "     COUNTRY CODE_TIME          TIME  YEAR  MONTH MONTH_NAME  \\\n",
       "0  Australia   JAN2010  January 2010  2010      1    January   \n",
       "1  Australia   JAN2010  January 2010  2010      1    January   \n",
       "2  Australia   JAN2010  January 2010  2010      1    January   \n",
       "3  Australia   JAN2010  January 2010  2010      1    January   \n",
       "4  Australia   JAN2010  January 2010  2010      1    January   \n",
       "\n",
       "                   PRODUCT      VALUE  DISPLAY_ORDER  yearToDate  \\\n",
       "0                    Hydro    990.728              1   16471.891   \n",
       "1                     Wind    409.469              2    4940.909   \n",
       "2                    Solar     49.216              3     908.238   \n",
       "3               Geothermal      0.083              4       0.996   \n",
       "4  Total combustible fuels  19289.730              7  214302.969   \n",
       "\n",
       "   previousYearToDate     share  \n",
       "0                 NaN  0.047771  \n",
       "1                 NaN  0.019744  \n",
       "2                 NaN  0.002373  \n",
       "3                 NaN  0.000004  \n",
       "4                 NaN  0.930108  "
      ]
     },
     "execution_count": 4,
     "metadata": {},
     "output_type": "execute_result"
    }
   ],
   "source": [
    "df.head()"
   ]
  },
  {
   "cell_type": "markdown",
   "id": "e7f65abe-5a33-46e2-b678-02868e94b008",
   "metadata": {},
   "source": [
    "## Limpieza de datos"
   ]
  },
  {
   "cell_type": "code",
   "execution_count": null,
   "id": "2b4f76ed-3ddf-4d61-8cfe-1788064f1eb0",
   "metadata": {},
   "outputs": [],
   "source": [
    "# Codifiquemos producto = ya eta codigfacodo en el Display order\n",
    "# Codificar el pais."
   ]
  },
  {
   "cell_type": "code",
   "execution_count": null,
   "id": "db95875f-3481-4e91-950c-10fe7c0f3b36",
   "metadata": {},
   "outputs": [],
   "source": []
  },
  {
   "cell_type": "markdown",
   "id": "33c1ab53-d91a-4e56-a2fd-dcafd2d7e6c3",
   "metadata": {},
   "source": [
    "## Graficos"
   ]
  },
  {
   "cell_type": "markdown",
   "id": "8d0f664c-baca-4778-a16b-c2153452aad2",
   "metadata": {},
   "source": [
    "### Mapa de Calor"
   ]
  },
  {
   "cell_type": "code",
   "execution_count": 7,
   "id": "85e98b16-72cf-49fd-ab64-1f339afd0a8f",
   "metadata": {
    "tags": []
   },
   "outputs": [
    {
     "data": {
      "image/png": "[encoded data removed]",
      "text/plain": [
       "<Figure size 800x600 with 2 Axes>"
      ]
     },
     "metadata": {},
     "output_type": "display_data"
    }
   ],
   "source": [
    "# Calcular la matriz de correlación\n",
    "corr = df.corr(numeric_only=True)\n",
    "\n",
    "# Crear el mapa de calor\n",
    "plt.figure(figsize=(8, 6))  # Tamaño del gráfico\n",
    "sns.heatmap(corr, annot=True, cmap='coolwarm', fmt=\".2f\", linewidths=0.5)\n",
    "\n",
    "# Agregar título y mostrar el gráfico\n",
    "plt.title('Mapa de Calor de Correlación entre Variables')\n",
    "plt.show()"
   ]
  },
  {
   "cell_type": "code",
   "execution_count": 57,
   "id": "8b16fa2c-84e4-41d7-aa8c-66029073c9f5",
   "metadata": {
    "tags": []
   },
   "outputs": [
    {
     "data": {
      "text/html": [
       "<div>\n",
       "<style scoped>\n",
       "    .dataframe tbody tr th:only-of-type {\n",
       "        vertical-align: middle;\n",
       "    }\n",
       "\n",
       "    .dataframe tbody tr th {\n",
       "        vertical-align: top;\n",
       "    }\n",
       "\n",
       "    .dataframe thead th {\n",
       "        text-align: right;\n",
       "    }\n",
       "</style>\n",
       "<table border=\"1\" class=\"dataframe\">\n",
       "  <thead>\n",
       "    <tr style=\"text-align: right;\">\n",
       "      <th></th>\n",
       "      <th>COUNTRY</th>\n",
       "      <th>CODE_TIME</th>\n",
       "      <th>TIME</th>\n",
       "      <th>YEAR</th>\n",
       "      <th>MONTH</th>\n",
       "      <th>MONTH_NAME</th>\n",
       "      <th>PRODUCT</th>\n",
       "      <th>VALUE</th>\n",
       "      <th>DISPLAY_ORDER</th>\n",
       "      <th>yearToDate</th>\n",
       "      <th>previousYearToDate</th>\n",
       "      <th>share</th>\n",
       "    </tr>\n",
       "  </thead>\n",
       "  <tbody>\n",
       "    <tr>\n",
       "      <th>134785</th>\n",
       "      <td>Australia</td>\n",
       "      <td>JAN2020</td>\n",
       "      <td>January 2020</td>\n",
       "      <td>2020</td>\n",
       "      <td>1</td>\n",
       "      <td>January</td>\n",
       "      <td>Solar</td>\n",
       "      <td>2099.697274</td>\n",
       "      <td>3</td>\n",
       "      <td>24597.685964</td>\n",
       "      <td>1670.869872</td>\n",
       "      <td>0.092884</td>\n",
       "    </tr>\n",
       "    <tr>\n",
       "      <th>136162</th>\n",
       "      <td>Australia</td>\n",
       "      <td>FEB2020</td>\n",
       "      <td>February 2020</td>\n",
       "      <td>2020</td>\n",
       "      <td>2</td>\n",
       "      <td>February</td>\n",
       "      <td>Solar</td>\n",
       "      <td>1834.782188</td>\n",
       "      <td>3</td>\n",
       "      <td>24597.685964</td>\n",
       "      <td>3104.174084</td>\n",
       "      <td>0.087654</td>\n",
       "    </tr>\n",
       "  </tbody>\n",
       "</table>\n",
       "</div>"
      ],
      "text/plain": [
       "          COUNTRY CODE_TIME           TIME  YEAR  MONTH MONTH_NAME PRODUCT  \\\n",
       "134785  Australia   JAN2020   January 2020  2020      1    January   Solar   \n",
       "136162  Australia   FEB2020  February 2020  2020      2   February   Solar   \n",
       "\n",
       "              VALUE  DISPLAY_ORDER    yearToDate  previousYearToDate     share  \n",
       "134785  2099.697274              3  24597.685964         1670.869872  0.092884  \n",
       "136162  1834.782188              3  24597.685964         3104.174084  0.087654  "
      ]
     },
     "execution_count": 57,
     "metadata": {},
     "output_type": "execute_result"
    }
   ],
   "source": [
    "df_filtrado = df[(df['COUNTRY'] == 'Australia') & (df['PRODUCT'] == 'Solar') & (df['YEAR'] == 2020) & ((df['MONTH'] == 2) | (df['MONTH'] == 1)) ]\n",
    "df_filtrado"
   ]
  },
  {
   "cell_type": "code",
   "execution_count": 53,
   "id": "7a9334f8-9f9d-494f-b609-12d84310e67e",
   "metadata": {
    "tags": []
   },
   "outputs": [
    {
     "data": {
      "text/plain": [
       "2233.161519"
      ]
     },
     "execution_count": 53,
     "metadata": {},
     "output_type": "execute_result"
    }
   ],
   "source": [
    "valueYear = df_filtrado['VALUE'].sum()\n",
    "valueYear"
   ]
  },
  {
   "cell_type": "code",
   "execution_count": 52,
   "id": "b2671719-2f4a-4c7f-9ce3-824774726546",
   "metadata": {
    "tags": []
   },
   "outputs": [
    {
     "data": {
      "text/html": [
       "<div>\n",
       "<style scoped>\n",
       "    .dataframe tbody tr th:only-of-type {\n",
       "        vertical-align: middle;\n",
       "    }\n",
       "\n",
       "    .dataframe tbody tr th {\n",
       "        vertical-align: top;\n",
       "    }\n",
       "\n",
       "    .dataframe thead th {\n",
       "        text-align: right;\n",
       "    }\n",
       "</style>\n",
       "<table border=\"1\" class=\"dataframe\">\n",
       "  <thead>\n",
       "    <tr style=\"text-align: right;\">\n",
       "      <th></th>\n",
       "      <th>COUNTRY</th>\n",
       "      <th>CODE_TIME</th>\n",
       "      <th>TIME</th>\n",
       "      <th>YEAR</th>\n",
       "      <th>MONTH</th>\n",
       "      <th>MONTH_NAME</th>\n",
       "      <th>PRODUCT</th>\n",
       "      <th>VALUE</th>\n",
       "      <th>DISPLAY_ORDER</th>\n",
       "      <th>yearToDate</th>\n",
       "      <th>previousYearToDate</th>\n",
       "      <th>share</th>\n",
       "    </tr>\n",
       "  </thead>\n",
       "  <tbody>\n",
       "    <tr>\n",
       "      <th>151307</th>\n",
       "      <td>Australia</td>\n",
       "      <td>JAN2021</td>\n",
       "      <td>January 2021</td>\n",
       "      <td>2021</td>\n",
       "      <td>1</td>\n",
       "      <td>January</td>\n",
       "      <td>Hydro</td>\n",
       "      <td>1082.825163</td>\n",
       "      <td>1</td>\n",
       "      <td>16328.370592</td>\n",
       "      <td>1129.644860</td>\n",
       "      <td>0.048128</td>\n",
       "    </tr>\n",
       "    <tr>\n",
       "      <th>152703</th>\n",
       "      <td>Australia</td>\n",
       "      <td>FEB2021</td>\n",
       "      <td>February 2021</td>\n",
       "      <td>2021</td>\n",
       "      <td>2</td>\n",
       "      <td>February</td>\n",
       "      <td>Hydro</td>\n",
       "      <td>1025.616857</td>\n",
       "      <td>1</td>\n",
       "      <td>16328.370592</td>\n",
       "      <td>2233.161519</td>\n",
       "      <td>0.051264</td>\n",
       "    </tr>\n",
       "  </tbody>\n",
       "</table>\n",
       "</div>"
      ],
      "text/plain": [
       "          COUNTRY CODE_TIME           TIME  YEAR  MONTH MONTH_NAME PRODUCT  \\\n",
       "151307  Australia   JAN2021   January 2021  2021      1    January   Hydro   \n",
       "152703  Australia   FEB2021  February 2021  2021      2   February   Hydro   \n",
       "\n",
       "              VALUE  DISPLAY_ORDER    yearToDate  previousYearToDate     share  \n",
       "151307  1082.825163              1  16328.370592         1129.644860  0.048128  \n",
       "152703  1025.616857              1  16328.370592         2233.161519  0.051264  "
      ]
     },
     "execution_count": 52,
     "metadata": {},
     "output_type": "execute_result"
    }
   ],
   "source": [
    "df_filtrado2021 = df[(df['COUNTRY'] == 'Australia') & (df['PRODUCT'] == 'Hydro') & (df['YEAR'] == 2021) & ((df['MONTH'] == 2) | (df['MONTH'] == 1))]\n",
    "df_filtrado2021"
   ]
  },
  {
   "cell_type": "code",
   "execution_count": 44,
   "id": "7e3e466c-f120-4b69-9767-33dfd39bb5c9",
   "metadata": {
    "tags": []
   },
   "outputs": [],
   "source": [
    "valueYear2021 = df_filtrado2021['VALUE'].sum()"
   ]
  },
  {
   "cell_type": "code",
   "execution_count": 45,
   "id": "02115b5b-7d38-40df-b667-aaf6ccc60e1c",
   "metadata": {
    "tags": []
   },
   "outputs": [
    {
     "data": {
      "text/plain": [
       "1082.825163"
      ]
     },
     "execution_count": 45,
     "metadata": {},
     "output_type": "execute_result"
    }
   ],
   "source": [
    "valueYear2021"
   ]
  },
  {
   "cell_type": "code",
   "execution_count": 46,
   "id": "65050b62-0c24-4152-97ac-8bfc53d97c45",
   "metadata": {
    "tags": []
   },
   "outputs": [
    {
     "data": {
      "text/plain": [
       "1129.64486"
      ]
     },
     "execution_count": 46,
     "metadata": {},
     "output_type": "execute_result"
    }
   ],
   "source": [
    "valueYear"
   ]
  },
  {
   "cell_type": "code",
   "execution_count": 47,
   "id": "467c5e3b-5871-4a9d-9cdc-570430e08386",
   "metadata": {
    "tags": []
   },
   "outputs": [],
   "source": [
    "valueFinal = valueYear2021 + valueYear"
   ]
  },
  {
   "cell_type": "code",
   "execution_count": 48,
   "id": "80bd011a-8a50-4191-bfe1-99e833296800",
   "metadata": {
    "tags": []
   },
   "outputs": [
    {
     "data": {
      "text/plain": [
       "2212.470023"
      ]
     },
     "execution_count": 48,
     "metadata": {},
     "output_type": "execute_result"
    }
   ],
   "source": [
    "valueFinal"
   ]
  },
  {
   "cell_type": "code",
   "execution_count": 56,
   "id": "ac3a3f01-6d05-4547-bcfe-174179c5e92c",
   "metadata": {
    "tags": []
   },
   "outputs": [
    {
     "data": {
      "text/plain": [
       "14880.598574"
      ]
     },
     "execution_count": 56,
     "metadata": {},
     "output_type": "execute_result"
    }
   ],
   "source": [
    "df_filtrado2019 = df[(df['COUNTRY'] == 'Australia') & (df['PRODUCT'] == 'Hydro') & (df['YEAR'] == 2020)]\n",
    "df_filtrado2019['VALUE'].sum()"
   ]
  },
  {
   "cell_type": "code",
   "execution_count": 62,
   "id": "9a3032bb-1e20-456a-88be-0f020b14a566",
   "metadata": {
    "tags": []
   },
   "outputs": [
    {
     "data": {
      "text/html": [
       "<div>\n",
       "<style scoped>\n",
       "    .dataframe tbody tr th:only-of-type {\n",
       "        vertical-align: middle;\n",
       "    }\n",
       "\n",
       "    .dataframe tbody tr th {\n",
       "        vertical-align: top;\n",
       "    }\n",
       "\n",
       "    .dataframe thead th {\n",
       "        text-align: right;\n",
       "    }\n",
       "</style>\n",
       "<table border=\"1\" class=\"dataframe\">\n",
       "  <thead>\n",
       "    <tr style=\"text-align: right;\">\n",
       "      <th></th>\n",
       "      <th>COUNTRY</th>\n",
       "      <th>CODE_TIME</th>\n",
       "      <th>TIME</th>\n",
       "      <th>YEAR</th>\n",
       "      <th>MONTH</th>\n",
       "      <th>MONTH_NAME</th>\n",
       "      <th>PRODUCT</th>\n",
       "      <th>VALUE</th>\n",
       "      <th>DISPLAY_ORDER</th>\n",
       "      <th>yearToDate</th>\n",
       "      <th>previousYearToDate</th>\n",
       "      <th>share</th>\n",
       "    </tr>\n",
       "  </thead>\n",
       "  <tbody>\n",
       "    <tr>\n",
       "      <th>7</th>\n",
       "      <td>Australia</td>\n",
       "      <td>JAN2010</td>\n",
       "      <td>January 2010</td>\n",
       "      <td>2010</td>\n",
       "      <td>1</td>\n",
       "      <td>January</td>\n",
       "      <td>Natural gas</td>\n",
       "      <td>3544.365000</td>\n",
       "      <td>10</td>\n",
       "      <td>45678.58500</td>\n",
       "      <td>NaN</td>\n",
       "      <td>0.170901</td>\n",
       "    </tr>\n",
       "    <tr>\n",
       "      <th>973</th>\n",
       "      <td>Australia</td>\n",
       "      <td>FEB2010</td>\n",
       "      <td>February 2010</td>\n",
       "      <td>2010</td>\n",
       "      <td>2</td>\n",
       "      <td>February</td>\n",
       "      <td>Natural gas</td>\n",
       "      <td>3624.479000</td>\n",
       "      <td>10</td>\n",
       "      <td>45678.58500</td>\n",
       "      <td>NaN</td>\n",
       "      <td>0.189390</td>\n",
       "    </tr>\n",
       "    <tr>\n",
       "      <th>1939</th>\n",
       "      <td>Australia</td>\n",
       "      <td>MAR2010</td>\n",
       "      <td>March 2010</td>\n",
       "      <td>2010</td>\n",
       "      <td>3</td>\n",
       "      <td>March</td>\n",
       "      <td>Natural gas</td>\n",
       "      <td>3334.396000</td>\n",
       "      <td>10</td>\n",
       "      <td>45678.58500</td>\n",
       "      <td>NaN</td>\n",
       "      <td>0.171226</td>\n",
       "    </tr>\n",
       "    <tr>\n",
       "      <th>2904</th>\n",
       "      <td>Australia</td>\n",
       "      <td>APR2010</td>\n",
       "      <td>April 2010</td>\n",
       "      <td>2010</td>\n",
       "      <td>4</td>\n",
       "      <td>April</td>\n",
       "      <td>Natural gas</td>\n",
       "      <td>3392.874000</td>\n",
       "      <td>10</td>\n",
       "      <td>45678.58500</td>\n",
       "      <td>NaN</td>\n",
       "      <td>0.187565</td>\n",
       "    </tr>\n",
       "    <tr>\n",
       "      <th>3870</th>\n",
       "      <td>Australia</td>\n",
       "      <td>MAY2010</td>\n",
       "      <td>May 2010</td>\n",
       "      <td>2010</td>\n",
       "      <td>5</td>\n",
       "      <td>May</td>\n",
       "      <td>Natural gas</td>\n",
       "      <td>3883.549000</td>\n",
       "      <td>10</td>\n",
       "      <td>45678.58500</td>\n",
       "      <td>NaN</td>\n",
       "      <td>0.196177</td>\n",
       "    </tr>\n",
       "    <tr>\n",
       "      <th>...</th>\n",
       "      <td>...</td>\n",
       "      <td>...</td>\n",
       "      <td>...</td>\n",
       "      <td>...</td>\n",
       "      <td>...</td>\n",
       "      <td>...</td>\n",
       "      <td>...</td>\n",
       "      <td>...</td>\n",
       "      <td>...</td>\n",
       "      <td>...</td>\n",
       "      <td>...</td>\n",
       "      <td>...</td>\n",
       "    </tr>\n",
       "    <tr>\n",
       "      <th>176180</th>\n",
       "      <td>Australia</td>\n",
       "      <td>AUG2022</td>\n",
       "      <td>August 2022</td>\n",
       "      <td>2022</td>\n",
       "      <td>8</td>\n",
       "      <td>August</td>\n",
       "      <td>Natural gas</td>\n",
       "      <td>4147.221562</td>\n",
       "      <td>10</td>\n",
       "      <td>46024.53088</td>\n",
       "      <td>30965.038014</td>\n",
       "      <td>0.181071</td>\n",
       "    </tr>\n",
       "    <tr>\n",
       "      <th>177334</th>\n",
       "      <td>Australia</td>\n",
       "      <td>SEP2022</td>\n",
       "      <td>September 2022</td>\n",
       "      <td>2022</td>\n",
       "      <td>9</td>\n",
       "      <td>September</td>\n",
       "      <td>Natural gas</td>\n",
       "      <td>3566.211620</td>\n",
       "      <td>10</td>\n",
       "      <td>46024.53088</td>\n",
       "      <td>34190.992475</td>\n",
       "      <td>0.168524</td>\n",
       "    </tr>\n",
       "    <tr>\n",
       "      <th>178488</th>\n",
       "      <td>Australia</td>\n",
       "      <td>OCT2022</td>\n",
       "      <td>October 2022</td>\n",
       "      <td>2022</td>\n",
       "      <td>10</td>\n",
       "      <td>October</td>\n",
       "      <td>Natural gas</td>\n",
       "      <td>3410.214589</td>\n",
       "      <td>10</td>\n",
       "      <td>46024.53088</td>\n",
       "      <td>37417.154890</td>\n",
       "      <td>0.161322</td>\n",
       "    </tr>\n",
       "    <tr>\n",
       "      <th>179642</th>\n",
       "      <td>Australia</td>\n",
       "      <td>NOV2022</td>\n",
       "      <td>November 2022</td>\n",
       "      <td>2022</td>\n",
       "      <td>11</td>\n",
       "      <td>November</td>\n",
       "      <td>Natural gas</td>\n",
       "      <td>3043.390280</td>\n",
       "      <td>10</td>\n",
       "      <td>46024.53088</td>\n",
       "      <td>40554.865371</td>\n",
       "      <td>0.148372</td>\n",
       "    </tr>\n",
       "    <tr>\n",
       "      <th>180788</th>\n",
       "      <td>Australia</td>\n",
       "      <td>DEC2022</td>\n",
       "      <td>December 2022</td>\n",
       "      <td>2022</td>\n",
       "      <td>12</td>\n",
       "      <td>December</td>\n",
       "      <td>Natural gas</td>\n",
       "      <td>3049.577666</td>\n",
       "      <td>10</td>\n",
       "      <td>46024.53088</td>\n",
       "      <td>43937.149619</td>\n",
       "      <td>0.140368</td>\n",
       "    </tr>\n",
       "  </tbody>\n",
       "</table>\n",
       "<p>156 rows × 12 columns</p>\n",
       "</div>"
      ],
      "text/plain": [
       "          COUNTRY CODE_TIME            TIME  YEAR  MONTH MONTH_NAME  \\\n",
       "7       Australia   JAN2010    January 2010  2010      1    January   \n",
       "973     Australia   FEB2010   February 2010  2010      2   February   \n",
       "1939    Australia   MAR2010      March 2010  2010      3      March   \n",
       "2904    Australia   APR2010      April 2010  2010      4      April   \n",
       "3870    Australia   MAY2010        May 2010  2010      5        May   \n",
       "...           ...       ...             ...   ...    ...        ...   \n",
       "176180  Australia   AUG2022     August 2022  2022      8     August   \n",
       "177334  Australia   SEP2022  September 2022  2022      9  September   \n",
       "178488  Australia   OCT2022    October 2022  2022     10    October   \n",
       "179642  Australia   NOV2022   November 2022  2022     11   November   \n",
       "180788  Australia   DEC2022   December 2022  2022     12   December   \n",
       "\n",
       "            PRODUCT        VALUE  DISPLAY_ORDER   yearToDate  \\\n",
       "7       Natural gas  3544.365000             10  45678.58500   \n",
       "973     Natural gas  3624.479000             10  45678.58500   \n",
       "1939    Natural gas  3334.396000             10  45678.58500   \n",
       "2904    Natural gas  3392.874000             10  45678.58500   \n",
       "3870    Natural gas  3883.549000             10  45678.58500   \n",
       "...             ...          ...            ...          ...   \n",
       "176180  Natural gas  4147.221562             10  46024.53088   \n",
       "177334  Natural gas  3566.211620             10  46024.53088   \n",
       "178488  Natural gas  3410.214589             10  46024.53088   \n",
       "179642  Natural gas  3043.390280             10  46024.53088   \n",
       "180788  Natural gas  3049.577666             10  46024.53088   \n",
       "\n",
       "        previousYearToDate     share  \n",
       "7                      NaN  0.170901  \n",
       "973                    NaN  0.189390  \n",
       "1939                   NaN  0.171226  \n",
       "2904                   NaN  0.187565  \n",
       "3870                   NaN  0.196177  \n",
       "...                    ...       ...  \n",
       "176180        30965.038014  0.181071  \n",
       "177334        34190.992475  0.168524  \n",
       "178488        37417.154890  0.161322  \n",
       "179642        40554.865371  0.148372  \n",
       "180788        43937.149619  0.140368  \n",
       "\n",
       "[156 rows x 12 columns]"
      ]
     },
     "execution_count": 62,
     "metadata": {},
     "output_type": "execute_result"
    }
   ],
   "source": [
    "df_filtrado2021 = df[(df['COUNTRY'] == 'Australia') & (df['PRODUCT'] == 'Natural gas')]\n",
    "df_filtrado2021"
   ]
  },
  {
   "cell_type": "code",
   "execution_count": null,
   "id": "15f85dcc-74ab-414b-8e9c-86d48eeb00d4",
   "metadata": {},
   "outputs": [],
   "source": []
  }
 ],
 "metadata": {
  "kernelspec": {
   "display_name": "Python 3 (ipykernel)",
   "language": "python",
   "name": "python3"
  },
  "language_info": {
   "codemirror_mode": {
    "name": "ipython",
    "version": 3
   },
   "file_extension": ".py",
   "mimetype": "text/x-python",
   "name": "python",
   "nbconvert_exporter": "python",
   "pygments_lexer": "ipython3",
   "version": "3.11.5"
  }
 },
 "nbformat": 4,
 "nbformat_minor": 5
}
